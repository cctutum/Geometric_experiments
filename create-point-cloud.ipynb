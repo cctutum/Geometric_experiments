{
 "cells": [
  {
   "cell_type": "code",
   "execution_count": 1,
   "metadata": {
    "collapsed": false,
    "jupyter": {
     "outputs_hidden": false
    }
   },
   "outputs": [],
   "source": [
    "%matplotlib inline"
   ]
  },
  {
   "cell_type": "markdown",
   "metadata": {},
   "source": [
    "Create Point Cloud {#create_point_cloud}\n",
    "==================\n",
    "\n",
    "Create a `pyvista.PolyData`{.interpreted-text role=\"class\"} object from\n",
    "a point cloud of vertices and scalar arrays for those points.\n"
   ]
  },
  {
   "cell_type": "code",
   "execution_count": 3,
   "metadata": {
    "collapsed": false,
    "jupyter": {
     "outputs_hidden": false
    }
   },
   "outputs": [],
   "source": [
    "import numpy as np\n",
    "\n",
    "import pyvista as pv\n",
    "from pyvista import examples"
   ]
  },
  {
   "cell_type": "markdown",
   "metadata": {},
   "source": [
    "Point clouds are generally constructed in the\n",
    "`pyvista.PolyData`{.interpreted-text role=\"class\"} class and can easily\n",
    "have scalar/vector data arrays associated with the point cloud. In this\n",
    "example, we\\'ll work a bit backwards using a point cloud that that is\n",
    "available from our `examples` module. This however is no different than\n",
    "creating a PyVista mesh with your own NumPy arrays of vertice locations.\n"
   ]
  },
  {
   "cell_type": "code",
   "execution_count": 4,
   "metadata": {
    "collapsed": false,
    "jupyter": {
     "outputs_hidden": false
    }
   },
   "outputs": [
    {
     "data": {
      "text/plain": [
       "pyvista_ndarray([[4.81009775e+05, 4.40008130e+06, 1.77351001e+03],\n",
       "                 [4.81081375e+05, 4.40020610e+06, 1.75813000e+03],\n",
       "                 [4.81013275e+05, 4.40013760e+06, 1.76167004e+03],\n",
       "                 [4.80982075e+05, 4.40019050e+06, 1.75933997e+03],\n",
       "                 [4.81087375e+05, 4.40019140e+06, 1.76943005e+03]])"
      ]
     },
     "execution_count": 4,
     "metadata": {},
     "output_type": "execute_result"
    }
   ],
   "source": [
    "# Define some helpers - ignore these and use your own data.\n",
    "def generate_points(subset=0.02):\n",
    "    \"\"\"A helper to make a 3D NumPy array of points (n_points by 3)\"\"\"\n",
    "    dataset = examples.download_lidar()\n",
    "    ids = np.random.randint(low=0, high=dataset.n_points - 1, size=int(dataset.n_points * subset))\n",
    "    return dataset.points[ids]\n",
    "\n",
    "\n",
    "points = generate_points()\n",
    "# Print first 5 rows to prove its a numpy array (n_points by 3)\n",
    "# Columns are (X Y Z)\n",
    "points[0:5, :]"
   ]
  },
  {
   "cell_type": "markdown",
   "metadata": {},
   "source": [
    "Now that you have a NumPy array of points/vertices either from our\n",
    "sample data or your own project, creating a PyVista mesh of those points\n",
    "is simply:\n"
   ]
  },
  {
   "cell_type": "code",
   "execution_count": 5,
   "metadata": {
    "collapsed": false,
    "jupyter": {
     "outputs_hidden": false
    }
   },
   "outputs": [
    {
     "data": {
      "text/html": [
       "\n",
       "<table style='width: 100%;'>\n",
       "<tr><th>PolyData</th><th>Information</th></tr>\n",
       "<tr><td>N Cells</td><td>67841</td></tr>\n",
       "<tr><td>N Points</td><td>67841</td></tr>\n",
       "<tr><td>N Strips</td><td>0</td></tr>\n",
       "<tr><td>X Bounds</td><td>4.809e+05, 4.811e+05</td></tr>\n",
       "<tr><td>Y Bounds</td><td>4.400e+06, 4.400e+06</td></tr>\n",
       "<tr><td>Z Bounds</td><td>1.754e+03, 1.784e+03</td></tr>\n",
       "<tr><td>N Arrays</td><td>0</td></tr>\n",
       "</table>\n",
       "\n"
      ],
      "text/plain": [
       "PolyData (0x76787a9e5f00)\n",
       "  N Cells:    67841\n",
       "  N Points:   67841\n",
       "  N Strips:   0\n",
       "  X Bounds:   4.809e+05, 4.811e+05\n",
       "  Y Bounds:   4.400e+06, 4.400e+06\n",
       "  Z Bounds:   1.754e+03, 1.784e+03\n",
       "  N Arrays:   0"
      ]
     },
     "execution_count": 5,
     "metadata": {},
     "output_type": "execute_result"
    }
   ],
   "source": [
    "point_cloud = pv.PolyData(points)\n",
    "point_cloud"
   ]
  },
  {
   "cell_type": "markdown",
   "metadata": {},
   "source": [
    "And we can even do a sanity check\n"
   ]
  },
  {
   "cell_type": "code",
   "execution_count": 6,
   "metadata": {
    "collapsed": false,
    "jupyter": {
     "outputs_hidden": false
    }
   },
   "outputs": [
    {
     "data": {
      "text/plain": [
       "True"
      ]
     },
     "execution_count": 6,
     "metadata": {},
     "output_type": "execute_result"
    }
   ],
   "source": [
    "np.allclose(points, point_cloud.points)"
   ]
  },
  {
   "cell_type": "markdown",
   "metadata": {},
   "source": [
    "And now that we have a PyVista mesh, we can plot it. Note that we add an\n",
    "option to use eye dome lighting - this is a shading technique to improve\n",
    "depth perception with point clouds (learn more in\n",
    "`edl`{.interpreted-text role=\"ref\"}).\n"
   ]
  },
  {
   "cell_type": "code",
   "execution_count": null,
   "metadata": {
    "collapsed": false,
    "jupyter": {
     "outputs_hidden": false
    }
   },
   "outputs": [],
   "source": [
    "point_cloud.plot(eye_dome_lighting=True)"
   ]
  },
  {
   "cell_type": "markdown",
   "metadata": {},
   "source": [
    "Now what if you have data attributes (scalar/vector arrays) that you\\'d\n",
    "like to associate with every node of your mesh? You can easily add NumPy\n",
    "data arrays that have a length equal to the number of points in the mesh\n",
    "along the first axis. For example, lets add a few arrays to this new\n",
    "`point_cloud` mesh.\n",
    "\n",
    "Make an array of scalar values with the same length as the points array.\n",
    "Each element in this array will correspond to points at the same index:\n"
   ]
  },
  {
   "cell_type": "code",
   "execution_count": null,
   "metadata": {
    "collapsed": false,
    "jupyter": {
     "outputs_hidden": false
    }
   },
   "outputs": [],
   "source": [
    "# Make data array using z-component of points array\n",
    "data = points[:, -1]\n",
    "\n",
    "# Add that data to the mesh with the name \"uniform dist\"\n",
    "point_cloud[\"elevation\"] = data"
   ]
  },
  {
   "cell_type": "markdown",
   "metadata": {},
   "source": [
    "And now we can plot the point cloud with that random data. PyVista is\n",
    "smart enough to plot the scalar array you added by default. Note that\n",
    "this time, we specify to render every point as its own sphere.\n"
   ]
  },
  {
   "cell_type": "code",
   "execution_count": null,
   "metadata": {
    "collapsed": false,
    "jupyter": {
     "outputs_hidden": false
    }
   },
   "outputs": [],
   "source": [
    "point_cloud.plot(render_points_as_spheres=True)"
   ]
  },
  {
   "cell_type": "markdown",
   "metadata": {},
   "source": [
    "That data is kind of boring, right? You can also add data arrays with\n",
    "more than one scalar value - perhaps a vector with three elements?\n",
    "Let\\'s make a little function that will compute vectors for every node\n",
    "in the point cloud and add those vectors to the mesh.\n",
    "\n",
    "This time, we\\'re going to create a totally new, random point cloud.\n"
   ]
  },
  {
   "cell_type": "code",
   "execution_count": null,
   "metadata": {
    "collapsed": false,
    "jupyter": {
     "outputs_hidden": false
    }
   },
   "outputs": [],
   "source": [
    "# Create random XYZ points\n",
    "points = np.random.rand(100, 3)\n",
    "# Make PolyData\n",
    "point_cloud = pv.PolyData(points)\n",
    "\n",
    "\n",
    "def compute_vectors(mesh):\n",
    "    origin = mesh.center\n",
    "    vectors = mesh.points - origin\n",
    "    vectors = vectors / np.linalg.norm(vectors, axis=1)[:, None]\n",
    "    return vectors\n",
    "\n",
    "\n",
    "vectors = compute_vectors(point_cloud)\n",
    "vectors[0:5, :]"
   ]
  },
  {
   "cell_type": "code",
   "execution_count": null,
   "metadata": {
    "collapsed": false,
    "jupyter": {
     "outputs_hidden": false
    }
   },
   "outputs": [],
   "source": [
    "point_cloud['vectors'] = vectors"
   ]
  },
  {
   "cell_type": "markdown",
   "metadata": {},
   "source": [
    "Now we can make arrows using those vectors using the glyph filter (see\n",
    "`glyph_example`{.interpreted-text role=\"ref\"} for more details).\n"
   ]
  },
  {
   "cell_type": "code",
   "execution_count": null,
   "metadata": {
    "collapsed": false,
    "jupyter": {
     "outputs_hidden": false
    }
   },
   "outputs": [],
   "source": [
    "arrows = point_cloud.glyph(\n",
    "    orient='vectors',\n",
    "    scale=False,\n",
    "    factor=0.15,\n",
    ")\n",
    "\n",
    "# Display the arrows\n",
    "plotter = pv.Plotter()\n",
    "plotter.add_mesh(point_cloud, color='maroon', point_size=10.0, render_points_as_spheres=True)\n",
    "plotter.add_mesh(arrows, color='lightblue')\n",
    "# plotter.add_point_labels([point_cloud.center,], ['Center',],\n",
    "#                          point_color='yellow', point_size=20)\n",
    "# plotter.show_grid()\n",
    "# plotter.show()"
   ]
  }
 ],
 "metadata": {
  "kernelspec": {
   "display_name": "Python 3 (ipykernel)",
   "language": "python",
   "name": "python3"
  },
  "language_info": {
   "codemirror_mode": {
    "name": "ipython",
    "version": 3
   },
   "file_extension": ".py",
   "mimetype": "text/x-python",
   "name": "python",
   "nbconvert_exporter": "python",
   "pygments_lexer": "ipython3",
   "version": "3.12.3"
  }
 },
 "nbformat": 4,
 "nbformat_minor": 4
}
